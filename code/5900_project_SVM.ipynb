{
  "nbformat": 4,
  "nbformat_minor": 0,
  "metadata": {
    "colab": {
      "provenance": [],
      "include_colab_link": true
    },
    "kernelspec": {
      "name": "python3",
      "display_name": "Python 3"
    }
  },
  "cells": [
    {
      "cell_type": "markdown",
      "metadata": {
        "id": "view-in-github",
        "colab_type": "text"
      },
      "source": [
        "<a href=\"https://colab.research.google.com/github/jeswanth2305/5900-project/blob/main/code/5900_project_SVM.ipynb\" target=\"_parent\"><img src=\"https://colab.research.google.com/assets/colab-badge.svg\" alt=\"Open In Colab\"/></a>"
      ]
    },
    {
      "cell_type": "code",
      "source": [
        "from google.colab import drive\n",
        "drive.mount('/content/drive')"
      ],
      "metadata": {
        "colab": {
          "base_uri": "https://localhost:8080/"
        },
        "id": "E3GQB8WAEBnU",
        "outputId": "e9853d5b-9928-4537-c77d-6e0e97f3c2b7"
      },
      "execution_count": 1,
      "outputs": [
        {
          "output_type": "stream",
          "name": "stdout",
          "text": [
            "Mounted at /content/drive\n"
          ]
        }
      ]
    },
    {
      "cell_type": "code",
      "source": [
        "import pandas as pd\n",
        "import numpy as np"
      ],
      "metadata": {
        "id": "342GxDw2Eodw"
      },
      "execution_count": 2,
      "outputs": []
    },
    {
      "cell_type": "code",
      "source": [
        "import time\n",
        "\n",
        "starting_time = time.time()\n",
        "data = pd.read_csv('/content/drive/MyDrive/5900 project/RAVTESS_MFCC_Observed.csv')\n",
        "print(\"data loaded in \" + str(time.time()-starting_time) + \"ms\")\n",
        "\n",
        "print(data.head())"
      ],
      "metadata": {
        "colab": {
          "base_uri": "https://localhost:8080/"
        },
        "id": "26LLx70rErYH",
        "outputId": "ae2933d7-18de-4cf4-8425-c2e26eeb9966"
      },
      "execution_count": 4,
      "outputs": [
        {
          "output_type": "stream",
          "name": "stdout",
          "text": [
            "data loaded in 0.41253089904785156ms\n",
            "   Unnamed: 0          0           1          2          3          4  \\\n",
            "0         288 -606.20450   60.358814 -24.344942  12.689716  -4.803007   \n",
            "1        2018 -497.01166   21.952590 -29.716557   6.589133 -15.976501   \n",
            "2        4256 -382.86514   75.177330 -18.020714  10.049208 -13.709579   \n",
            "3        4195 -298.75943   35.738598 -16.441034  33.286182 -11.894375   \n",
            "4        3340 -450.81780  102.587840   7.047376 -15.194387  -7.608045   \n",
            "\n",
            "           5          6          7          8  ...        31        32  \\\n",
            "0  -4.511478  -6.793818  -9.193912 -10.548016  ...  7.177325  6.952299   \n",
            "1 -14.498157 -14.859723 -16.470820 -16.814070  ...  5.530832  0.060323   \n",
            "2   9.770125 -12.239926  -8.740997 -10.479516  ...  3.934036  4.599089   \n",
            "3  -2.049213 -15.526284 -16.306858  -5.000370  ...  3.487697  8.761043   \n",
            "4   6.229052 -22.083948   5.788644 -20.823030  ...  7.322304  4.835584   \n",
            "\n",
            "         33        34        35        36        37        38        39  \\\n",
            "0  8.757213  6.396153  3.717712  0.933469  0.309808  0.972087  1.471096   \n",
            "1 -4.202655 -3.527693  1.781564 -1.206829 -2.573631  3.960349  6.745505   \n",
            "2  3.739966  5.647933  1.890634  3.337203  2.180125  3.325908  0.969556   \n",
            "3  6.457236  3.612004 -5.398344 -1.690194 -2.302854 -2.782778 -1.076385   \n",
            "4  2.445122  3.864568  4.530360  3.760991  4.671317  7.227177  9.470942   \n",
            "\n",
            "   emotion  \n",
            "0    happy  \n",
            "1      sad  \n",
            "2  disgust  \n",
            "3    happy  \n",
            "4    happy  \n",
            "\n",
            "[5 rows x 42 columns]\n"
          ]
        }
      ]
    },
    {
      "cell_type": "code",
      "source": [
        "data.shape"
      ],
      "metadata": {
        "colab": {
          "base_uri": "https://localhost:8080/"
        },
        "id": "B1P9DWN7E0ry",
        "outputId": "9e8ca475-3e40-41ce-8660-cf3430326b1b"
      },
      "execution_count": 5,
      "outputs": [
        {
          "output_type": "execute_result",
          "data": {
            "text/plain": [
              "(5252, 42)"
            ]
          },
          "metadata": {},
          "execution_count": 5
        }
      ]
    },
    {
      "cell_type": "code",
      "source": [
        "#printing all columns\n",
        "data.columns"
      ],
      "metadata": {
        "colab": {
          "base_uri": "https://localhost:8080/"
        },
        "id": "boG0gzDiE2wF",
        "outputId": "7e01d78c-0839-4139-f767-1da06aba03a8"
      },
      "execution_count": 6,
      "outputs": [
        {
          "output_type": "execute_result",
          "data": {
            "text/plain": [
              "Index(['Unnamed: 0', '0', '1', '2', '3', '4', '5', '6', '7', '8', '9', '10',\n",
              "       '11', '12', '13', '14', '15', '16', '17', '18', '19', '20', '21', '22',\n",
              "       '23', '24', '25', '26', '27', '28', '29', '30', '31', '32', '33', '34',\n",
              "       '35', '36', '37', '38', '39', 'emotion'],\n",
              "      dtype='object')"
            ]
          },
          "metadata": {},
          "execution_count": 6
        }
      ]
    },
    {
      "cell_type": "code",
      "source": [
        "#dropping the column Unnamed: 0 to removed shuffled index\n",
        "data = data.drop('Unnamed: 0',axis=1)"
      ],
      "metadata": {
        "id": "ZMZM3CaoE5ji"
      },
      "execution_count": 7,
      "outputs": []
    },
    {
      "cell_type": "code",
      "source": [
        "data.columns"
      ],
      "metadata": {
        "colab": {
          "base_uri": "https://localhost:8080/"
        },
        "id": "1vOVvKoMFJ1M",
        "outputId": "cfc7ef19-a33e-40f9-f003-af6eb4890f81"
      },
      "execution_count": 8,
      "outputs": [
        {
          "output_type": "execute_result",
          "data": {
            "text/plain": [
              "Index(['0', '1', '2', '3', '4', '5', '6', '7', '8', '9', '10', '11', '12',\n",
              "       '13', '14', '15', '16', '17', '18', '19', '20', '21', '22', '23', '24',\n",
              "       '25', '26', '27', '28', '29', '30', '31', '32', '33', '34', '35', '36',\n",
              "       '37', '38', '39', 'emotion'],\n",
              "      dtype='object')"
            ]
          },
          "metadata": {},
          "execution_count": 8
        }
      ]
    },
    {
      "cell_type": "code",
      "source": [
        "#separating features and target outputs\n",
        "X = data.drop('emotion', axis = 1).values\n",
        "y = data['emotion'].values"
      ],
      "metadata": {
        "id": "CsbF3fD9FOCh"
      },
      "execution_count": 9,
      "outputs": []
    },
    {
      "cell_type": "markdown",
      "source": [
        "**SVM**\n",
        "\n",
        "Implementing SVM with Scikit-Learn"
      ],
      "metadata": {
        "id": "qtGGuskQFRf_"
      }
    },
    {
      "cell_type": "code",
      "source": [
        "import pandas as pd\n",
        "import numpy as np\n",
        "import matplotlib.pyplot as plt\n",
        "%matplotlib inline"
      ],
      "metadata": {
        "id": "55Z33PY0FXpl"
      },
      "execution_count": 10,
      "outputs": []
    },
    {
      "cell_type": "code",
      "source": [
        "X.shape, y.shape"
      ],
      "metadata": {
        "colab": {
          "base_uri": "https://localhost:8080/"
        },
        "id": "ybfQ4_FRF9_s",
        "outputId": "3419bc92-580a-42e9-f348-4f37010c0b71"
      },
      "execution_count": 11,
      "outputs": [
        {
          "output_type": "execute_result",
          "data": {
            "text/plain": [
              "((5252, 40), (5252,))"
            ]
          },
          "metadata": {},
          "execution_count": 11
        }
      ]
    },
    {
      "cell_type": "code",
      "source": [
        "np.unique(y)"
      ],
      "metadata": {
        "colab": {
          "base_uri": "https://localhost:8080/"
        },
        "id": "CG2yWn3vF_y2",
        "outputId": "f42335d2-59fa-49d3-fc49-ea60402a9973"
      },
      "execution_count": 12,
      "outputs": [
        {
          "output_type": "execute_result",
          "data": {
            "text/plain": [
              "array(['angry', 'calm', 'disgust', 'fear', 'happy', 'neutral', 'sad',\n",
              "       'surprised'], dtype=object)"
            ]
          },
          "metadata": {},
          "execution_count": 12
        }
      ]
    },
    {
      "cell_type": "markdown",
      "source": [
        "X variable contains attributes while y variable contains corresponding labels.\n",
        "\n",
        "Once the data is divided into attributes and labels, the final preprocessing step is to divide data into training and test sets. The model_selection library of the Scikit-Learn library contains the train_test_split method that allows us to divide data into training and test sets."
      ],
      "metadata": {
        "id": "zHaLjoGVr3aK"
      }
    },
    {
      "cell_type": "code",
      "source": [
        "from sklearn.model_selection import train_test_split\n",
        "\n",
        "X_train, X_test, y_train, y_test = train_test_split(X, y, test_size = 0.20)"
      ],
      "metadata": {
        "id": "BUSCA_2kGCh_"
      },
      "execution_count": 13,
      "outputs": []
    },
    {
      "cell_type": "markdown",
      "source": [
        "It is the time to train our SVM on the training data. Scikit-Learn contains the svm library, which contains built-in classes for different SVM algorithms. Since we are going to perform a classification task, we will use the support vector classifier class, which is written as SVC in the Scikit-Learn's svm library. We have set the kernel to linear."
      ],
      "metadata": {
        "id": "3xe6R6DQr6K8"
      }
    },
    {
      "cell_type": "code",
      "source": [
        "from sklearn.svm import SVC\n",
        "\n",
        "svclassifier = SVC(kernel = 'linear')"
      ],
      "metadata": {
        "id": "tD-487euGFM0"
      },
      "execution_count": 14,
      "outputs": []
    },
    {
      "cell_type": "markdown",
      "source": [
        "The fit method of SVC class is called to train the algorithm on the training data, which is passed as a parameter to the fit method. Execute the following code to train the algorithm:"
      ],
      "metadata": {
        "id": "aO_dKIqor8De"
      }
    },
    {
      "cell_type": "code",
      "source": [
        "import time\n",
        "\n",
        "starting_time = time.time()\n",
        "svclassifier.fit(X_train, y_train)\n",
        "print(\"Trained model in %s ms \" % str(time.time() - starting_time))"
      ],
      "metadata": {
        "colab": {
          "base_uri": "https://localhost:8080/"
        },
        "id": "Vk29sHEVGbe1",
        "outputId": "8fc92359-c84f-43d4-be27-40d7e1fc326d"
      },
      "execution_count": 15,
      "outputs": [
        {
          "output_type": "stream",
          "name": "stdout",
          "text": [
            "Trained model in 118.1064555644989 ms \n"
          ]
        }
      ]
    },
    {
      "cell_type": "markdown",
      "source": [
        "To make predictions, the predict method of the SVC class is used."
      ],
      "metadata": {
        "id": "HDE3wBlar90I"
      }
    },
    {
      "cell_type": "code",
      "source": [
        "y_pred = svclassifier.predict(X_test)"
      ],
      "metadata": {
        "id": "r53I_ixFGdXc"
      },
      "execution_count": 16,
      "outputs": []
    },
    {
      "cell_type": "markdown",
      "source": [
        "Confusion matrix, precision, recall, and F1 measures are the most commonly used metrics for classification tasks. Scikit-Learn's metrics library contains the classification_report and confusion_matrix methods, which can be readily used to find out the values for these important metrics. We have used the following code for finding these metrics:"
      ],
      "metadata": {
        "id": "KjrSPCMOr_wZ"
      }
    },
    {
      "cell_type": "code",
      "source": [
        "from sklearn.metrics import classification_report, confusion_matrix,accuracy_score\n",
        "import seaborn as sn\n",
        "\n",
        "print(classification_report(y_test,y_pred))\n",
        "\n",
        "acc = float(accuracy_score(y_test,y_pred))*100\n",
        "print(\"----accuracy score %s ----\" % acc)\n",
        "\n",
        "cm = confusion_matrix(y_test,y_pred)\n",
        "df_cm = pd.DataFrame(cm)\n",
        "sn.heatmap(df_cm, annot=True, fmt='')\n",
        "plt.show()"
      ],
      "metadata": {
        "colab": {
          "base_uri": "https://localhost:8080/",
          "height": 708
        },
        "id": "dDhL_WRIHgRE",
        "outputId": "44d6b765-36ee-41ce-aa6c-c2d9ea454d3a"
      },
      "execution_count": 17,
      "outputs": [
        {
          "output_type": "stream",
          "name": "stdout",
          "text": [
            "              precision    recall  f1-score   support\n",
            "\n",
            "       angry       0.75      0.80      0.78       152\n",
            "        calm       0.47      0.71      0.56        69\n",
            "     disgust       0.68      0.70      0.69       115\n",
            "        fear       0.58      0.66      0.62       137\n",
            "       happy       0.68      0.60      0.64       154\n",
            "     neutral       0.93      0.75      0.83       127\n",
            "         sad       0.73      0.75      0.74       163\n",
            "   surprised       0.85      0.68      0.76       134\n",
            "\n",
            "    accuracy                           0.71      1051\n",
            "   macro avg       0.71      0.70      0.70      1051\n",
            "weighted avg       0.72      0.71      0.71      1051\n",
            "\n",
            "----accuracy score 70.50428163653663 ----\n"
          ]
        },
        {
          "output_type": "display_data",
          "data": {
            "text/plain": [
              "<Figure size 640x480 with 2 Axes>"
            ],
            "image/png": "[encoded data removed]"
          },
          "metadata": {}
        }
      ]
    },
    {
      "cell_type": "markdown",
      "source": [
        "Now by calculating the training accuracy and comparing with testing accuracy, we can check for overfitting of data"
      ],
      "metadata": {
        "id": "ARiXRZgasEkb"
      }
    },
    {
      "cell_type": "code",
      "source": [
        "train_acc = float(svclassifier.score(X_train, y_train)*100)\n",
        "print(\"----train accuracy score %s ----\" % train_acc)\n",
        "\n",
        "test_acc = float(svclassifier.score(X_test, y_test)*100)\n",
        "print(\"----test accuracy score %s ----\" % test_acc)"
      ],
      "metadata": {
        "colab": {
          "base_uri": "https://localhost:8080/"
        },
        "id": "E_9ibdYyHj-j",
        "outputId": "9eb95fe8-0d64-41dd-c8d8-f985760ffd48"
      },
      "execution_count": 18,
      "outputs": [
        {
          "output_type": "stream",
          "name": "stdout",
          "text": [
            "----train accuracy score 78.1480599857177 ----\n",
            "----test accuracy score 70.50428163653663 ----\n"
          ]
        }
      ]
    },
    {
      "cell_type": "markdown",
      "source": [
        "**Cross-Validation**\n",
        "\n",
        "5-fold cross validation of the dataset with the SVC classifier."
      ],
      "metadata": {
        "id": "TC2SzjHqHnQr"
      }
    },
    {
      "cell_type": "code",
      "source": [
        "from sklearn.model_selection import cross_val_score\n",
        "\n",
        "# no. of folds cv = 5\n",
        "cv_results = cross_val_score(svclassifier, X, y, cv = 5)\n",
        "print(cv_results)"
      ],
      "metadata": {
        "colab": {
          "base_uri": "https://localhost:8080/"
        },
        "id": "xSJhiDfwHq23",
        "outputId": "877c2b6e-c39f-4d86-f924-caea8bca8a95"
      },
      "execution_count": 19,
      "outputs": [
        {
          "output_type": "stream",
          "name": "stdout",
          "text": [
            "[0.72597526 0.73073264 0.7352381  0.72190476 0.70190476]\n"
          ]
        }
      ]
    },
    {
      "cell_type": "markdown",
      "source": [
        "**Scaling**\n",
        "\n",
        "When performing the linear SVM classification, it is often helpful to normalize the training data, for example by subtracting the mean and dividing by the standard deviation, and afterwards scale the test data with the mean and standard deviation of training data."
      ],
      "metadata": {
        "id": "3s6v3slgKW3K"
      }
    },
    {
      "cell_type": "code",
      "source": [
        "from sklearn.model_selection import train_test_split\n",
        "from sklearn.preprocessing import StandardScaler\n",
        "from sklearn.pipeline import Pipeline\n",
        "from sklearn.svm import SVC\n",
        "\n",
        "\n",
        "#splitting dataset into train/ test sets\n",
        "X_train, X_test, y_train, y_test = train_test_split(X, y, test_size = 0.20)\n",
        "\n",
        "# Setup the pipeline steps: steps\n",
        "steps = [('scaler', StandardScaler()),\n",
        "        ('SVM', SVC())]\n",
        "\n",
        "# Create the pipeline: pipeline\n",
        "pipeline = Pipeline(steps)\n",
        "\n",
        "# Fit the pipeline to the training set: svc_scaled\n",
        "svc_scaled = pipeline.fit(X_train, y_train)\n",
        "\n",
        "# Instantiate and fit a classifier to the unscaled data\n",
        "svc_unscaled = SVC(kernel = 'linear').fit(X_train, y_train)\n",
        "\n",
        "# Compute and print metrics\n",
        "print('Accuracy with Scaling: {}'.format(svc_scaled.score(X_test, y_test)))\n",
        "print('Accuracy without Scaling: {}'.format(svc_unscaled.score(X_test, y_test)))"
      ],
      "metadata": {
        "colab": {
          "base_uri": "https://localhost:8080/"
        },
        "id": "dHZ7ynBCKYkZ",
        "outputId": "397ff70c-cbf8-45a1-9320-f2cefadc910f"
      },
      "execution_count": 20,
      "outputs": [
        {
          "output_type": "stream",
          "name": "stdout",
          "text": [
            "Accuracy with Scaling: 0.8325404376784015\n",
            "Accuracy without Scaling: 0.7278782112274025\n"
          ]
        }
      ]
    },
    {
      "cell_type": "markdown",
      "source": [
        "**Generalization check**\n",
        "\n",
        "Checking for overfitting or underfitting by comparing the training and testing scores of the model"
      ],
      "metadata": {
        "id": "9CSaE5r-Kbtf"
      }
    },
    {
      "cell_type": "code",
      "source": [
        "train_acc = float(svc_scaled.score(X_train, y_train)*100)\n",
        "print(\"----train accuracy score %s ----\" % train_acc)\n",
        "\n",
        "test_acc = float(svc_scaled.score(X_test, y_test)*100)\n",
        "print(\"----test accuracy score %s ----\" % test_acc)"
      ],
      "metadata": {
        "colab": {
          "base_uri": "https://localhost:8080/"
        },
        "id": "YSa8c6HPKesx",
        "outputId": "e609bcbf-ca12-411c-e53b-274688faf162"
      },
      "execution_count": 21,
      "outputs": [
        {
          "output_type": "stream",
          "name": "stdout",
          "text": [
            "----train accuracy score 87.45536776957867 ----\n",
            "----test accuracy score 83.25404376784014 ----\n"
          ]
        }
      ]
    },
    {
      "cell_type": "code",
      "source": [
        "scaled_predictions = svc_scaled.predict(X_test)"
      ],
      "metadata": {
        "id": "I-88ECqpKiD2"
      },
      "execution_count": 22,
      "outputs": []
    },
    {
      "cell_type": "markdown",
      "source": [
        "**Classification reports and Confusion Matrix**"
      ],
      "metadata": {
        "id": "r922rOt1KsTS"
      }
    },
    {
      "cell_type": "code",
      "source": [
        "from sklearn.metrics import classification_report, confusion_matrix,accuracy_score\n",
        "import seaborn as sn\n",
        "\n",
        "print(classification_report(y_test,scaled_predictions))\n",
        "\n",
        "acc = float(accuracy_score(y_test,scaled_predictions))*100\n",
        "print(\"----accuracy score %s ----\" % acc)\n",
        "\n",
        "cm = confusion_matrix(y_test,scaled_predictions)\n",
        "df_cm = pd.DataFrame(cm)\n",
        "sn.heatmap(df_cm, annot=True, fmt='')\n",
        "plt.show()"
      ],
      "metadata": {
        "colab": {
          "base_uri": "https://localhost:8080/",
          "height": 708
        },
        "id": "_NMSyQMiKuWw",
        "outputId": "a7eb663f-34bc-4b46-e637-a72619512701"
      },
      "execution_count": 23,
      "outputs": [
        {
          "output_type": "stream",
          "name": "stdout",
          "text": [
            "              precision    recall  f1-score   support\n",
            "\n",
            "       angry       0.90      0.93      0.91       141\n",
            "        calm       0.56      0.83      0.67        77\n",
            "     disgust       0.86      0.82      0.84       109\n",
            "        fear       0.87      0.80      0.83       169\n",
            "       happy       0.84      0.81      0.83       169\n",
            "     neutral       0.99      0.81      0.89       116\n",
            "         sad       0.83      0.79      0.81       156\n",
            "   surprised       0.82      0.89      0.85       114\n",
            "\n",
            "    accuracy                           0.83      1051\n",
            "   macro avg       0.83      0.83      0.83      1051\n",
            "weighted avg       0.85      0.83      0.84      1051\n",
            "\n",
            "----accuracy score 83.25404376784014 ----\n"
          ]
        },
        {
          "output_type": "display_data",
          "data": {
            "text/plain": [
              "<Figure size 640x480 with 2 Axes>"
            ],
            "image/png": "[encoded data removed]"
          },
          "metadata": {}
        }
      ]
    },
    {
      "cell_type": "markdown",
      "source": [
        "**Cross Validation**"
      ],
      "metadata": {
        "id": "PYOuWAyAK0hn"
      }
    },
    {
      "cell_type": "code",
      "source": [
        "from sklearn.model_selection import cross_val_score\n",
        "\n",
        "# no. of folds cv = 5\n",
        "cv_results = cross_val_score(svc_scaled, X, y, cv = 5)\n",
        "print(cv_results)"
      ],
      "metadata": {
        "colab": {
          "base_uri": "https://localhost:8080/"
        },
        "id": "MQcyJ2GoK2Xx",
        "outputId": "aea8bd6d-2687-44c6-fd25-39ea57c8782d"
      },
      "execution_count": 24,
      "outputs": [
        {
          "output_type": "stream",
          "name": "stdout",
          "text": [
            "[0.83539486 0.83349191 0.83142857 0.82571429 0.83904762]\n"
          ]
        }
      ]
    },
    {
      "cell_type": "code",
      "source": [
        "from joblib import dump\n",
        "\n",
        "# Save the model\n",
        "dump(svclassifier, 'svm_model.joblib')\n",
        "\n"
      ],
      "metadata": {
        "colab": {
          "base_uri": "https://localhost:8080/"
        },
        "id": "vEhOjuUcLMH6",
        "outputId": "27463db0-d629-4f89-8e8a-78ee62e7907f"
      },
      "execution_count": 40,
      "outputs": [
        {
          "output_type": "execute_result",
          "data": {
            "text/plain": [
              "['svm_model.joblib']"
            ]
          },
          "metadata": {},
          "execution_count": 40
        }
      ]
    },
    {
      "cell_type": "code",
      "source": [
        "from shutil import copyfile\n",
        "\n",
        "source_path = '/content/svm_model.joblib'\n",
        "destination_path = '/content/drive/MyDrive/5900 project/svm_model.joblib'\n",
        "\n",
        "copyfile(source_path, destination_path)\n"
      ],
      "metadata": {
        "colab": {
          "base_uri": "https://localhost:8080/",
          "height": 35
        },
        "id": "xe6NgqMJQFnj",
        "outputId": "094dead5-0890-4af0-9231-1ab93c3f1d64"
      },
      "execution_count": 42,
      "outputs": [
        {
          "output_type": "execute_result",
          "data": {
            "text/plain": [
              "'/content/drive/MyDrive/5900 project/svm_model.joblib'"
            ],
            "application/vnd.google.colaboratory.intrinsic+json": {
              "type": "string"
            }
          },
          "metadata": {},
          "execution_count": 42
        }
      ]
    },
    {
      "cell_type": "markdown",
      "source": [
        "Predict the audio file"
      ],
      "metadata": {
        "id": "RhlBxmH_MQMP"
      }
    },
    {
      "cell_type": "code",
      "source": [
        "import librosa\n",
        "from joblib import load"
      ],
      "metadata": {
        "id": "vrBNiuYzMTlf"
      },
      "execution_count": 26,
      "outputs": []
    },
    {
      "cell_type": "code",
      "source": [
        "file_path = \"/content/drive/MyDrive/5900 project/test files/03-01-05-02-02-01-13.wav\"\n",
        "audio, sr = librosa.load(file_path, sr=None)"
      ],
      "metadata": {
        "id": "s1-maHB_MVnj"
      },
      "execution_count": 27,
      "outputs": []
    },
    {
      "cell_type": "code",
      "source": [
        "mfccs = librosa.feature.mfcc(y=audio, sr=sr, n_mfcc=40)\n",
        "mfccs_processed = np.mean(mfccs.T, axis=0)"
      ],
      "metadata": {
        "id": "ljpBA9HBMgE4"
      },
      "execution_count": 28,
      "outputs": []
    },
    {
      "cell_type": "code",
      "source": [
        "model = load('svm_model.joblib')"
      ],
      "metadata": {
        "id": "ulUBPWW0Mi9P"
      },
      "execution_count": 29,
      "outputs": []
    },
    {
      "cell_type": "code",
      "source": [
        "prediction = model.predict(mfccs_processed.reshape(1, -1))\n",
        "print(\"Predicted Emotion: \", prediction)"
      ],
      "metadata": {
        "colab": {
          "base_uri": "https://localhost:8080/"
        },
        "id": "eddSu7BzMlIK",
        "outputId": "1b2511d1-6d27-4f2d-9d02-c24cae609f29"
      },
      "execution_count": 30,
      "outputs": [
        {
          "output_type": "stream",
          "name": "stdout",
          "text": [
            "Predicted Emotion:  ['angry']\n"
          ]
        }
      ]
    },
    {
      "cell_type": "markdown",
      "source": [
        "Predict the recorded file"
      ],
      "metadata": {
        "id": "XJK5FQGWMyEL"
      }
    },
    {
      "cell_type": "code",
      "source": [
        "from IPython.display import HTML, Javascript\n",
        "from google.colab.output import eval_js\n",
        "import base64\n",
        "\n",
        "\n"
      ],
      "metadata": {
        "id": "L9nzHErZM1xS"
      },
      "execution_count": 43,
      "outputs": []
    },
    {
      "cell_type": "code",
      "source": [
        "js = Javascript(\"\"\"\n",
        "\n",
        "  async function recordAudio() {\n",
        "\n",
        "  const div = document.createElement('div');\n",
        "  const audio = document.createElement('audio');\n",
        "  const strtButton = document.createElement('button');\n",
        "  const stopButton = document.createElement('button');\n",
        "\n",
        "  strtButton.textContent = 'Start Recording';\n",
        "  stopButton.textContent = 'Stop Recording';\n",
        "\n",
        "  document.body.appendChild(div);\n",
        "  div.appendChild(strtButton);\n",
        "  div.appendChild(audio);\n",
        "\n",
        "  const stream = await navigator.mediaDevices.getUserMedia({audio:true});\n",
        "  let recorder = new MediaRecorder(stream);\n",
        "\n",
        "  audio.style.display = 'block';\n",
        "  audio.srcObject = stream;\n",
        "  audio.controls = true;\n",
        "  audio.muted = true;\n",
        "\n",
        "  await new Promise((resolve) => strtButton.onclick = resolve);\n",
        "  strtButton.replaceWith(stopButton);\n",
        "  recorder.start();\n",
        "\n",
        "  await new Promise((resolve) => stopButton.onclick = resolve);\n",
        "  recorder.stop();\n",
        "  let recData = await new Promise((resolve) => recorder.ondataavailable = resolve);\n",
        "  let arrBuff = await recData.data.arrayBuffer();\n",
        "  stream.getAudioTracks()[0].stop();\n",
        "  div.remove();\n",
        "\n",
        "  let binaryString = '';\n",
        "  let bytes = new Uint8Array(arrBuff);\n",
        "  bytes.forEach((byte) => { binaryString += String.fromCharCode(byte) });\n",
        "\n",
        "  const url = URL.createObjectURL(recData.data);\n",
        "  const player = document.createElement('audio');\n",
        "  player.controls = true;\n",
        "  player.src = url;\n",
        "  document.body.appendChild(player);\n",
        "\n",
        "  return btoa(binaryString);\n",
        "};\n",
        "\n",
        "\n",
        "  \"\"\")\n",
        "\n"
      ],
      "metadata": {
        "id": "27GVGy_tZmXB"
      },
      "execution_count": 44,
      "outputs": []
    },
    {
      "cell_type": "code",
      "source": [
        "display(js)\n",
        "output = eval_js('recordAudio({})')\n",
        "with open('audio.wav','wb') as file:\n",
        "  binary = base64.b64decode(output)\n",
        "  file.write(binary)\n",
        "\n",
        "print('Recording saved to:',file.name)\n",
        "\n",
        "\n",
        "\n",
        "file_path = \"/content/audio.wav\"\n",
        "audio, sr = librosa.load(file_path, sr=None)\n",
        "\n",
        "mfccs = librosa.feature.mfcc(y=audio, sr=sr, n_mfcc=40)\n",
        "mfccs_processed = np.mean(mfccs.T, axis=0)\n",
        "\n",
        "model = load('svm_model.joblib')\n",
        "\n",
        "prediction = model.predict(mfccs_processed.reshape(1, -1))\n",
        "print(\"Predicted Emotion: \", prediction)"
      ],
      "metadata": {
        "colab": {
          "base_uri": "https://localhost:8080/",
          "height": 214
        },
        "id": "EpU-c6psNGYB",
        "outputId": "69cd4363-58d5-4df4-8d2a-41b02c4f7cff"
      },
      "execution_count": 45,
      "outputs": [
        {
          "output_type": "display_data",
          "data": {
            "text/plain": [
              "<IPython.core.display.Javascript object>"
            ],
            "application/javascript": [
              "\n",
              "\n",
              "  async function recordAudio() {\n",
              "\n",
              "  const div = document.createElement('div');\n",
              "  const audio = document.createElement('audio');\n",
              "  const strtButton = document.createElement('button');\n",
              "  const stopButton = document.createElement('button');\n",
              "\n",
              "  strtButton.textContent = 'Start Recording';\n",
              "  stopButton.textContent = 'Stop Recording';\n",
              "\n",
              "  document.body.appendChild(div);\n",
              "  div.appendChild(strtButton);\n",
              "  div.appendChild(audio);\n",
              "\n",
              "  const stream = await navigator.mediaDevices.getUserMedia({audio:true});\n",
              "  let recorder = new MediaRecorder(stream);\n",
              "\n",
              "  audio.style.display = 'block';\n",
              "  audio.srcObject = stream;\n",
              "  audio.controls = true;\n",
              "  audio.muted = true;\n",
              "\n",
              "  await new Promise((resolve) => strtButton.onclick = resolve);\n",
              "  strtButton.replaceWith(stopButton);\n",
              "  recorder.start();\n",
              "\n",
              "  await new Promise((resolve) => stopButton.onclick = resolve);\n",
              "  recorder.stop();\n",
              "  let recData = await new Promise((resolve) => recorder.ondataavailable = resolve);\n",
              "  let arrBuff = await recData.data.arrayBuffer();\n",
              "  stream.getAudioTracks()[0].stop();\n",
              "  div.remove();\n",
              "\n",
              "  let binaryString = '';\n",
              "  let bytes = new Uint8Array(arrBuff);\n",
              "  bytes.forEach((byte) => { binaryString += String.fromCharCode(byte) });\n",
              "\n",
              "  const url = URL.createObjectURL(recData.data);\n",
              "  const player = document.createElement('audio');\n",
              "  player.controls = true;\n",
              "  player.src = url;\n",
              "  document.body.appendChild(player);\n",
              "\n",
              "  return btoa(binaryString);\n",
              "};\n",
              "\n",
              "\n",
              "  "
            ]
          },
          "metadata": {}
        },
        {
          "output_type": "stream",
          "name": "stdout",
          "text": [
            "Recording saved to: audio.wav\n",
            "Predicted Emotion:  ['disgust']\n"
          ]
        },
        {
          "output_type": "stream",
          "name": "stderr",
          "text": [
            "<ipython-input-45-5f14b15967b0>:12: UserWarning: PySoundFile failed. Trying audioread instead.\n",
            "  audio, sr = librosa.load(file_path, sr=None)\n",
            "/usr/local/lib/python3.10/dist-packages/librosa/core/audio.py:183: FutureWarning: librosa.core.audio.__audioread_load\n",
            "\tDeprecated as of librosa version 0.10.0.\n",
            "\tIt will be removed in librosa version 1.0.\n",
            "  y, sr_native = __audioread_load(path, offset, duration, dtype)\n"
          ]
        }
      ]
    }
  ]
}
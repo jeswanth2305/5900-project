{
  "nbformat": 4,
  "nbformat_minor": 0,
  "metadata": {
    "colab": {
      "provenance": [],
      "authorship_tag": "ABX9TyPQUGhiXJc2tex2S8/dw11W",
      "include_colab_link": true
    },
    "kernelspec": {
      "name": "python3",
      "display_name": "Python 3"
    },
    "language_info": {
      "name": "python"
    }
  },
  "cells": [
    {
      "cell_type": "markdown",
      "metadata": {
        "id": "view-in-github",
        "colab_type": "text"
      },
      "source": [
        "<a href=\"https://colab.research.google.com/github/jeswanth2305/5900-project/blob/main/code/SVM_Feature_Extraction.ipynb\" target=\"_parent\"><img src=\"https://colab.research.google.com/assets/colab-badge.svg\" alt=\"Open In Colab\"/></a>"
      ]
    },
    {
      "cell_type": "markdown",
      "source": [
        "## **SVM - Feature Extraction**"
      ],
      "metadata": {
        "id": "6g7Vue_FuoYU"
      }
    },
    {
      "cell_type": "markdown",
      "source": [
        "**Import Libraries**\n",
        "\n",
        "Import necessary libraries"
      ],
      "metadata": {
        "id": "7jp7mhijrKnL"
      }
    },
    {
      "cell_type": "code",
      "source": [
        "import glob\n",
        "import os\n",
        "import librosa\n",
        "import time\n",
        "import numpy as np\n",
        "import pandas as pd"
      ],
      "metadata": {
        "id": "ZdI8fMc7NiNf"
      },
      "execution_count": 39,
      "outputs": []
    },
    {
      "cell_type": "markdown",
      "source": [
        "**Load all files**\n",
        "\n",
        "We will create our numpy array extracting Mel-frequency cepstral coefficients (MFCCs) while the classes to predict will be extracted from the name of the file.\n",
        "\n",
        "**Defining emotions to classify**\n",
        "\n",
        "Selecting the emotions to be classified. Note that the emotions 'neutral', 'calm' and 'surprised' are only found in RAVDESS dataset and 'pleasantly surprised' or 'ps' is only available in TESS dataset. To combine all the emotions from both datasets into 8 emotion classes, we have changed 'pleasantly surprised' to 'surprised' and 'fearful' to 'fear'"
      ],
      "metadata": {
        "id": "J-afv57mrPqq"
      }
    },
    {
      "cell_type": "code",
      "source": [
        "emotions={\n",
        "  '01':'neutral',\n",
        "  '02':'calm',\n",
        "  '03':'happy',\n",
        "  '04':'sad',\n",
        "  '05':'angry',\n",
        "  '06':'fear',\n",
        "  '07':'disgust',\n",
        "  '08':'surprised'\n",
        "}\n",
        "\n",
        "#defined tess emotions to test on TESS dataset only\n",
        "tess_emotions=['angry','disgust','fear','ps','happy','sad']\n",
        "\n",
        "##defined RAVDESS emotions to test on RAVDESS dataset only\n",
        "ravdess_emotions=['neutral','calm','angry', 'happy','disgust','sad','fear','surprised']\n",
        "\n",
        "observed_emotions = ['sad','angry','happy','disgust','surprised','neutral','calm','fear']"
      ],
      "metadata": {
        "id": "EBNfrABoNvih"
      },
      "execution_count": 40,
      "outputs": []
    },
    {
      "cell_type": "markdown",
      "source": [
        "**Feature extraction**\n",
        "\n",
        "Using librosa package we can extract the MFCC features. This function loads the file give the file path and after resampling and computing MFCC features, returns the features. We have selected the no. of MFCCs as 40.\n",
        "\n",
        "https://librosa.org/librosa/generated/librosa.feature.mfcc.html"
      ],
      "metadata": {
        "id": "5BhrVXN7rVQC"
      }
    },
    {
      "cell_type": "code",
      "source": [
        "def extract_feature(file_name, mfcc):\n",
        "    X, sample_rate = librosa.load(os.path.join(file_name), res_type='kaiser_fast')\n",
        "    if mfcc:\n",
        "        mfccs = np.mean(librosa.feature.mfcc(y=X, sr=sample_rate, n_mfcc=40).T, axis=0)\n",
        "        return mfccs"
      ],
      "metadata": {
        "id": "PHHLO7TnNyKo"
      },
      "execution_count": 41,
      "outputs": []
    },
    {
      "cell_type": "markdown",
      "source": [
        "**Choosing a dataset**\n",
        "\n",
        "Choose the dataset(s) you want to load using the following function"
      ],
      "metadata": {
        "id": "uN7rFT2xre_d"
      }
    },
    {
      "cell_type": "code",
      "source": [
        "def dataset_options():\n",
        "    # choose datasets\n",
        "    ravdess = True\n",
        "    tess = True\n",
        "    ravdess_speech = False\n",
        "    ravdess_song = False\n",
        "    data = {'ravdess':ravdess, 'ravdess_speech':ravdess_speech, 'ravdess_song':ravdess_song, 'tess':tess}\n",
        "    print(data)\n",
        "    return data"
      ],
      "metadata": {
        "id": "N6EYAhMJN1Hz"
      },
      "execution_count": 42,
      "outputs": []
    },
    {
      "cell_type": "markdown",
      "source": [
        "**Load data**\n",
        "\n",
        "Load data from the datasets required which is obtained by calling the function dataset__options(). Extract features from each file with the selected emotions in chosen datasets using the extract_feature() function defined."
      ],
      "metadata": {
        "id": "B1p2KbJ2rjSl"
      }
    },
    {
      "cell_type": "code",
      "source": [
        "def load_data(test_size=0.2):\n",
        "    x,y=[],[]\n",
        "\n",
        "    # feature to extract\n",
        "    mfcc = True\n",
        "\n",
        "    data = dataset_options()\n",
        "\n",
        "    for file in glob.glob(\"/content/drive/MyDrive/RAVDESS files/Song and speech/*.wav\"):\n",
        "      file_name = os.path.basename(file)\n",
        "      parts = file_name.split(\"-\")\n",
        "      if len(parts) >= 3:\n",
        "        emotion = emotions[parts[2]]\n",
        "        if emotion not in observed_emotions:  # options observed_emotions - RAVDESS and TESS, ravdess_emotions for RAVDESS only\n",
        "            continue\n",
        "        feature = extract_feature(file, mfcc)\n",
        "        x.append(feature)\n",
        "        y.append(emotion)\n",
        "      else:\n",
        "        print(f\"File name does not have the expected format: {file_name}\")\n",
        "\n",
        "    for file in glob.glob(\"/content/drive/MyDrive/RAVDESS files/TESS/*.wav\"):\n",
        "      file_name = os.path.basename(file)\n",
        "      parts = file_name.split(\"_\")\n",
        "      if len(parts) >= 3:\n",
        "        emotion = parts[2][:-4]  # split and remove .wav\n",
        "        if emotion == 'ps':\n",
        "            emotion = 'surprised'\n",
        "        if emotion not in observed_emotions:  # options observed_emotions - RAVDESS and TESS, ravdess_emotions for RAVDESS only\n",
        "            continue\n",
        "        feature = extract_feature(file, mfcc)\n",
        "        x.append(feature)\n",
        "        y.append(emotion)\n",
        "      else:\n",
        "        print(f\"File name does not have the expected format: {file_name}\")\n",
        "    return {\"X\":x,\"y\":y}"
      ],
      "metadata": {
        "id": "CXhSHjI-N4DD"
      },
      "execution_count": 66,
      "outputs": []
    },
    {
      "cell_type": "code",
      "source": [
        "start_time = time.time()\n",
        "\n",
        "Trial_dict = load_data(test_size = 0.3)\n",
        "\n",
        "print(\"--- Data loaded. Loading time: %s seconds ---\" % (time.time() - start_time))"
      ],
      "metadata": {
        "id": "rKTYbHKEqKRI"
      },
      "execution_count": null,
      "outputs": []
    },
    {
      "cell_type": "code",
      "source": [
        "X = pd.DataFrame(Trial_dict[\"X\"])\n",
        "y = pd.DataFrame(Trial_dict[\"y\"])"
      ],
      "metadata": {
        "id": "h60iIR4sqO1P"
      },
      "execution_count": 69,
      "outputs": []
    },
    {
      "cell_type": "code",
      "source": [
        "X.shape, y.shape"
      ],
      "metadata": {
        "colab": {
          "base_uri": "https://localhost:8080/"
        },
        "id": "TNIbCe4VqQ0y",
        "outputId": "3bc6f1c7-e3a7-4c4b-afed-f0019b0df3ad"
      },
      "execution_count": 70,
      "outputs": [
        {
          "output_type": "execute_result",
          "data": {
            "text/plain": [
              "((5252, 40), (5252, 1))"
            ]
          },
          "metadata": {},
          "execution_count": 70
        }
      ]
    },
    {
      "cell_type": "code",
      "source": [
        "#renaming the label column to emotion\n",
        "y=y.rename(columns= {0: 'emotion'})"
      ],
      "metadata": {
        "id": "_K01CZrQDZ7P"
      },
      "execution_count": 71,
      "outputs": []
    },
    {
      "cell_type": "code",
      "source": [
        "#concatinating the attributes and label into a single dataframe\n",
        "data = pd.concat([X, y], axis =1)"
      ],
      "metadata": {
        "id": "kG8WRgmtDcX7"
      },
      "execution_count": 72,
      "outputs": []
    },
    {
      "cell_type": "code",
      "source": [
        "data.head()"
      ],
      "metadata": {
        "colab": {
          "base_uri": "https://localhost:8080/",
          "height": 236
        },
        "id": "GaMLFtjFDeLI",
        "outputId": "7e529652-1b4f-4089-d084-fe47eb07889f"
      },
      "execution_count": 73,
      "outputs": [
        {
          "output_type": "execute_result",
          "data": {
            "text/plain": [
              "            0          1          2          3         4         5          6  \\\n",
              "0 -738.960205  55.012432 -22.545742  12.643789 -3.285344 -6.439648 -12.282077   \n",
              "1 -715.542786  71.405403   4.975545  18.101927  8.825036  3.230271  -1.688666   \n",
              "2 -616.739807  59.600132  -5.550658  13.469154  1.485377  0.201867 -14.613069   \n",
              "3 -698.304199  46.464561 -10.771418  12.419950 -7.534273 -1.659831  -9.686534   \n",
              "4 -652.819153  57.520428 -12.105348  11.378452 -7.287295 -0.952046  -8.074774   \n",
              "\n",
              "          7          8         9  ...        31        32        33        34  \\\n",
              "0 -6.486738 -10.541921  3.362543  ...  5.970497  4.215719  5.337021  4.385305   \n",
              "1 -0.206652  -2.554181  4.168936  ...  0.443504  0.990664  0.175228  0.727823   \n",
              "2 -4.188658  -5.495050 -6.319356  ... -2.013380 -1.005495  0.310675  0.595130   \n",
              "3 -9.666937 -10.174019 -0.902112  ...  0.067040 -1.443540  0.970879  2.591219   \n",
              "4 -6.016807  -6.434291  1.423135  ...  2.583748  2.572970  3.680408  2.838020   \n",
              "\n",
              "         35        36        37        38        39  emotion  \n",
              "0  3.625052  1.643892 -0.636432  1.814381  3.166791  neutral  \n",
              "1  1.855822  0.257207 -1.855294 -1.415936 -0.340105  neutral  \n",
              "2 -1.666019 -2.078755 -2.563148 -0.593154  2.019405  neutral  \n",
              "3  1.850196  1.659194  0.163973  4.402706  4.185752  neutral  \n",
              "4  2.145133 -0.954625  0.745138 -0.201660  0.126857  neutral  \n",
              "\n",
              "[5 rows x 41 columns]"
            ],
            "text/html": [
              "\n",
              "  <div id=\"df-f9a16e87-b11e-49d1-9621-d9dc5d0e0ea6\" class=\"colab-df-container\">\n",
              "    <div>\n",
              "<style scoped>\n",
              "    .dataframe tbody tr th:only-of-type {\n",
              "        vertical-align: middle;\n",
              "    }\n",
              "\n",
              "    .dataframe tbody tr th {\n",
              "        vertical-align: top;\n",
              "    }\n",
              "\n",
              "    .dataframe thead th {\n",
              "        text-align: right;\n",
              "    }\n",
              "</style>\n",
              "<table border=\"1\" class=\"dataframe\">\n",
              "  <thead>\n",
              "    <tr style=\"text-align: right;\">\n",
              "      <th></th>\n",
              "      <th>0</th>\n",
              "      <th>1</th>\n",
              "      <th>2</th>\n",
              "      <th>3</th>\n",
              "      <th>4</th>\n",
              "      <th>5</th>\n",
              "      <th>6</th>\n",
              "      <th>7</th>\n",
              "      <th>8</th>\n",
              "      <th>9</th>\n",
              "      <th>...</th>\n",
              "      <th>31</th>\n",
              "      <th>32</th>\n",
              "      <th>33</th>\n",
              "      <th>34</th>\n",
              "      <th>35</th>\n",
              "      <th>36</th>\n",
              "      <th>37</th>\n",
              "      <th>38</th>\n",
              "      <th>39</th>\n",
              "      <th>emotion</th>\n",
              "    </tr>\n",
              "  </thead>\n",
              "  <tbody>\n",
              "    <tr>\n",
              "      <th>0</th>\n",
              "      <td>-738.960205</td>\n",
              "      <td>55.012432</td>\n",
              "      <td>-22.545742</td>\n",
              "      <td>12.643789</td>\n",
              "      <td>-3.285344</td>\n",
              "      <td>-6.439648</td>\n",
              "      <td>-12.282077</td>\n",
              "      <td>-6.486738</td>\n",
              "      <td>-10.541921</td>\n",
              "      <td>3.362543</td>\n",
              "      <td>...</td>\n",
              "      <td>5.970497</td>\n",
              "      <td>4.215719</td>\n",
              "      <td>5.337021</td>\n",
              "      <td>4.385305</td>\n",
              "      <td>3.625052</td>\n",
              "      <td>1.643892</td>\n",
              "      <td>-0.636432</td>\n",
              "      <td>1.814381</td>\n",
              "      <td>3.166791</td>\n",
              "      <td>neutral</td>\n",
              "    </tr>\n",
              "    <tr>\n",
              "      <th>1</th>\n",
              "      <td>-715.542786</td>\n",
              "      <td>71.405403</td>\n",
              "      <td>4.975545</td>\n",
              "      <td>18.101927</td>\n",
              "      <td>8.825036</td>\n",
              "      <td>3.230271</td>\n",
              "      <td>-1.688666</td>\n",
              "      <td>-0.206652</td>\n",
              "      <td>-2.554181</td>\n",
              "      <td>4.168936</td>\n",
              "      <td>...</td>\n",
              "      <td>0.443504</td>\n",
              "      <td>0.990664</td>\n",
              "      <td>0.175228</td>\n",
              "      <td>0.727823</td>\n",
              "      <td>1.855822</td>\n",
              "      <td>0.257207</td>\n",
              "      <td>-1.855294</td>\n",
              "      <td>-1.415936</td>\n",
              "      <td>-0.340105</td>\n",
              "      <td>neutral</td>\n",
              "    </tr>\n",
              "    <tr>\n",
              "      <th>2</th>\n",
              "      <td>-616.739807</td>\n",
              "      <td>59.600132</td>\n",
              "      <td>-5.550658</td>\n",
              "      <td>13.469154</td>\n",
              "      <td>1.485377</td>\n",
              "      <td>0.201867</td>\n",
              "      <td>-14.613069</td>\n",
              "      <td>-4.188658</td>\n",
              "      <td>-5.495050</td>\n",
              "      <td>-6.319356</td>\n",
              "      <td>...</td>\n",
              "      <td>-2.013380</td>\n",
              "      <td>-1.005495</td>\n",
              "      <td>0.310675</td>\n",
              "      <td>0.595130</td>\n",
              "      <td>-1.666019</td>\n",
              "      <td>-2.078755</td>\n",
              "      <td>-2.563148</td>\n",
              "      <td>-0.593154</td>\n",
              "      <td>2.019405</td>\n",
              "      <td>neutral</td>\n",
              "    </tr>\n",
              "    <tr>\n",
              "      <th>3</th>\n",
              "      <td>-698.304199</td>\n",
              "      <td>46.464561</td>\n",
              "      <td>-10.771418</td>\n",
              "      <td>12.419950</td>\n",
              "      <td>-7.534273</td>\n",
              "      <td>-1.659831</td>\n",
              "      <td>-9.686534</td>\n",
              "      <td>-9.666937</td>\n",
              "      <td>-10.174019</td>\n",
              "      <td>-0.902112</td>\n",
              "      <td>...</td>\n",
              "      <td>0.067040</td>\n",
              "      <td>-1.443540</td>\n",
              "      <td>0.970879</td>\n",
              "      <td>2.591219</td>\n",
              "      <td>1.850196</td>\n",
              "      <td>1.659194</td>\n",
              "      <td>0.163973</td>\n",
              "      <td>4.402706</td>\n",
              "      <td>4.185752</td>\n",
              "      <td>neutral</td>\n",
              "    </tr>\n",
              "    <tr>\n",
              "      <th>4</th>\n",
              "      <td>-652.819153</td>\n",
              "      <td>57.520428</td>\n",
              "      <td>-12.105348</td>\n",
              "      <td>11.378452</td>\n",
              "      <td>-7.287295</td>\n",
              "      <td>-0.952046</td>\n",
              "      <td>-8.074774</td>\n",
              "      <td>-6.016807</td>\n",
              "      <td>-6.434291</td>\n",
              "      <td>1.423135</td>\n",
              "      <td>...</td>\n",
              "      <td>2.583748</td>\n",
              "      <td>2.572970</td>\n",
              "      <td>3.680408</td>\n",
              "      <td>2.838020</td>\n",
              "      <td>2.145133</td>\n",
              "      <td>-0.954625</td>\n",
              "      <td>0.745138</td>\n",
              "      <td>-0.201660</td>\n",
              "      <td>0.126857</td>\n",
              "      <td>neutral</td>\n",
              "    </tr>\n",
              "  </tbody>\n",
              "</table>\n",
              "<p>5 rows × 41 columns</p>\n",
              "</div>\n",
              "    <div class=\"colab-df-buttons\">\n",
              "\n",
              "  <div class=\"colab-df-container\">\n",
              "    <button class=\"colab-df-convert\" onclick=\"convertToInteractive('df-f9a16e87-b11e-49d1-9621-d9dc5d0e0ea6')\"\n",
              "            title=\"Convert this dataframe to an interactive table.\"\n",
              "            style=\"display:none;\">\n",
              "\n",
              "  <svg xmlns=\"http://www.w3.org/2000/svg\" height=\"24px\" viewBox=\"0 -960 960 960\">\n",
              "    <path d=\"M120-120v-720h720v720H120Zm60-500h600v-160H180v160Zm220 220h160v-160H400v160Zm0 220h160v-160H400v160ZM180-400h160v-160H180v160Zm440 0h160v-160H620v160ZM180-180h160v-160H180v160Zm440 0h160v-160H620v160Z\"/>\n",
              "  </svg>\n",
              "    </button>\n",
              "\n",
              "  <style>\n",
              "    .colab-df-container {\n",
              "      display:flex;\n",
              "      gap: 12px;\n",
              "    }\n",
              "\n",
              "    .colab-df-convert {\n",
              "      background-color: #E8F0FE;\n",
              "      border: none;\n",
              "      border-radius: 50%;\n",
              "      cursor: pointer;\n",
              "      display: none;\n",
              "      fill: #1967D2;\n",
              "      height: 32px;\n",
              "      padding: 0 0 0 0;\n",
              "      width: 32px;\n",
              "    }\n",
              "\n",
              "    .colab-df-convert:hover {\n",
              "      background-color: #E2EBFA;\n",
              "      box-shadow: 0px 1px 2px rgba(60, 64, 67, 0.3), 0px 1px 3px 1px rgba(60, 64, 67, 0.15);\n",
              "      fill: #174EA6;\n",
              "    }\n",
              "\n",
              "    .colab-df-buttons div {\n",
              "      margin-bottom: 4px;\n",
              "    }\n",
              "\n",
              "    [theme=dark] .colab-df-convert {\n",
              "      background-color: #3B4455;\n",
              "      fill: #D2E3FC;\n",
              "    }\n",
              "\n",
              "    [theme=dark] .colab-df-convert:hover {\n",
              "      background-color: #434B5C;\n",
              "      box-shadow: 0px 1px 3px 1px rgba(0, 0, 0, 0.15);\n",
              "      filter: drop-shadow(0px 1px 2px rgba(0, 0, 0, 0.3));\n",
              "      fill: #FFFFFF;\n",
              "    }\n",
              "  </style>\n",
              "\n",
              "    <script>\n",
              "      const buttonEl =\n",
              "        document.querySelector('#df-f9a16e87-b11e-49d1-9621-d9dc5d0e0ea6 button.colab-df-convert');\n",
              "      buttonEl.style.display =\n",
              "        google.colab.kernel.accessAllowed ? 'block' : 'none';\n",
              "\n",
              "      async function convertToInteractive(key) {\n",
              "        const element = document.querySelector('#df-f9a16e87-b11e-49d1-9621-d9dc5d0e0ea6');\n",
              "        const dataTable =\n",
              "          await google.colab.kernel.invokeFunction('convertToInteractive',\n",
              "                                                    [key], {});\n",
              "        if (!dataTable) return;\n",
              "\n",
              "        const docLinkHtml = 'Like what you see? Visit the ' +\n",
              "          '<a target=\"_blank\" href=https://colab.research.google.com/notebooks/data_table.ipynb>data table notebook</a>'\n",
              "          + ' to learn more about interactive tables.';\n",
              "        element.innerHTML = '';\n",
              "        dataTable['output_type'] = 'display_data';\n",
              "        await google.colab.output.renderOutput(dataTable, element);\n",
              "        const docLink = document.createElement('div');\n",
              "        docLink.innerHTML = docLinkHtml;\n",
              "        element.appendChild(docLink);\n",
              "      }\n",
              "    </script>\n",
              "  </div>\n",
              "\n",
              "\n",
              "<div id=\"df-f30000e0-9461-4a17-a116-780aec4b81c2\">\n",
              "  <button class=\"colab-df-quickchart\" onclick=\"quickchart('df-f30000e0-9461-4a17-a116-780aec4b81c2')\"\n",
              "            title=\"Suggest charts.\"\n",
              "            style=\"display:none;\">\n",
              "\n",
              "<svg xmlns=\"http://www.w3.org/2000/svg\" height=\"24px\"viewBox=\"0 0 24 24\"\n",
              "     width=\"24px\">\n",
              "    <g>\n",
              "        <path d=\"M19 3H5c-1.1 0-2 .9-2 2v14c0 1.1.9 2 2 2h14c1.1 0 2-.9 2-2V5c0-1.1-.9-2-2-2zM9 17H7v-7h2v7zm4 0h-2V7h2v10zm4 0h-2v-4h2v4z\"/>\n",
              "    </g>\n",
              "</svg>\n",
              "  </button>\n",
              "\n",
              "<style>\n",
              "  .colab-df-quickchart {\n",
              "      --bg-color: #E8F0FE;\n",
              "      --fill-color: #1967D2;\n",
              "      --hover-bg-color: #E2EBFA;\n",
              "      --hover-fill-color: #174EA6;\n",
              "      --disabled-fill-color: #AAA;\n",
              "      --disabled-bg-color: #DDD;\n",
              "  }\n",
              "\n",
              "  [theme=dark] .colab-df-quickchart {\n",
              "      --bg-color: #3B4455;\n",
              "      --fill-color: #D2E3FC;\n",
              "      --hover-bg-color: #434B5C;\n",
              "      --hover-fill-color: #FFFFFF;\n",
              "      --disabled-bg-color: #3B4455;\n",
              "      --disabled-fill-color: #666;\n",
              "  }\n",
              "\n",
              "  .colab-df-quickchart {\n",
              "    background-color: var(--bg-color);\n",
              "    border: none;\n",
              "    border-radius: 50%;\n",
              "    cursor: pointer;\n",
              "    display: none;\n",
              "    fill: var(--fill-color);\n",
              "    height: 32px;\n",
              "    padding: 0;\n",
              "    width: 32px;\n",
              "  }\n",
              "\n",
              "  .colab-df-quickchart:hover {\n",
              "    background-color: var(--hover-bg-color);\n",
              "    box-shadow: 0 1px 2px rgba(60, 64, 67, 0.3), 0 1px 3px 1px rgba(60, 64, 67, 0.15);\n",
              "    fill: var(--button-hover-fill-color);\n",
              "  }\n",
              "\n",
              "  .colab-df-quickchart-complete:disabled,\n",
              "  .colab-df-quickchart-complete:disabled:hover {\n",
              "    background-color: var(--disabled-bg-color);\n",
              "    fill: var(--disabled-fill-color);\n",
              "    box-shadow: none;\n",
              "  }\n",
              "\n",
              "  .colab-df-spinner {\n",
              "    border: 2px solid var(--fill-color);\n",
              "    border-color: transparent;\n",
              "    border-bottom-color: var(--fill-color);\n",
              "    animation:\n",
              "      spin 1s steps(1) infinite;\n",
              "  }\n",
              "\n",
              "  @keyframes spin {\n",
              "    0% {\n",
              "      border-color: transparent;\n",
              "      border-bottom-color: var(--fill-color);\n",
              "      border-left-color: var(--fill-color);\n",
              "    }\n",
              "    20% {\n",
              "      border-color: transparent;\n",
              "      border-left-color: var(--fill-color);\n",
              "      border-top-color: var(--fill-color);\n",
              "    }\n",
              "    30% {\n",
              "      border-color: transparent;\n",
              "      border-left-color: var(--fill-color);\n",
              "      border-top-color: var(--fill-color);\n",
              "      border-right-color: var(--fill-color);\n",
              "    }\n",
              "    40% {\n",
              "      border-color: transparent;\n",
              "      border-right-color: var(--fill-color);\n",
              "      border-top-color: var(--fill-color);\n",
              "    }\n",
              "    60% {\n",
              "      border-color: transparent;\n",
              "      border-right-color: var(--fill-color);\n",
              "    }\n",
              "    80% {\n",
              "      border-color: transparent;\n",
              "      border-right-color: var(--fill-color);\n",
              "      border-bottom-color: var(--fill-color);\n",
              "    }\n",
              "    90% {\n",
              "      border-color: transparent;\n",
              "      border-bottom-color: var(--fill-color);\n",
              "    }\n",
              "  }\n",
              "</style>\n",
              "\n",
              "  <script>\n",
              "    async function quickchart(key) {\n",
              "      const quickchartButtonEl =\n",
              "        document.querySelector('#' + key + ' button');\n",
              "      quickchartButtonEl.disabled = true;  // To prevent multiple clicks.\n",
              "      quickchartButtonEl.classList.add('colab-df-spinner');\n",
              "      try {\n",
              "        const charts = await google.colab.kernel.invokeFunction(\n",
              "            'suggestCharts', [key], {});\n",
              "      } catch (error) {\n",
              "        console.error('Error during call to suggestCharts:', error);\n",
              "      }\n",
              "      quickchartButtonEl.classList.remove('colab-df-spinner');\n",
              "      quickchartButtonEl.classList.add('colab-df-quickchart-complete');\n",
              "    }\n",
              "    (() => {\n",
              "      let quickchartButtonEl =\n",
              "        document.querySelector('#df-f30000e0-9461-4a17-a116-780aec4b81c2 button');\n",
              "      quickchartButtonEl.style.display =\n",
              "        google.colab.kernel.accessAllowed ? 'block' : 'none';\n",
              "    })();\n",
              "  </script>\n",
              "</div>\n",
              "    </div>\n",
              "  </div>\n"
            ]
          },
          "metadata": {},
          "execution_count": 73
        }
      ]
    },
    {
      "cell_type": "markdown",
      "source": [
        "**Shuffling data**"
      ],
      "metadata": {
        "id": "Yg__VcukrqIO"
      }
    },
    {
      "cell_type": "code",
      "source": [
        "#reindexing to shuffle the data at random\n",
        "data = data.reindex(np.random.permutation(data.index))"
      ],
      "metadata": {
        "id": "7ujZOIguDj7J"
      },
      "execution_count": 74,
      "outputs": []
    },
    {
      "cell_type": "code",
      "source": [
        "# Storing shuffled ravdess and tess data to avoid loading again\n",
        "data.to_csv(\"RAVTESS_MFCC_Observed.csv\")\n",
        "save_path = '/content/drive/MyDrive/5900 project/RAVTESS_MFCC_Observed.csv'\n",
        "data.to_csv(save_path)"
      ],
      "metadata": {
        "id": "p4lrGSW0Dm9E"
      },
      "execution_count": 77,
      "outputs": []
    }
  ]
}